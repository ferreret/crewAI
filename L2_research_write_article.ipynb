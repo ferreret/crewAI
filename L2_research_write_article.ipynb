{
 "cells": [
  {
   "cell_type": "markdown",
   "metadata": {},
   "source": [
    "# L2: Create Agents to Research and Write an Article\n",
    "\n",
    "In this lesson, you will be introduced to the foundational concepts of multi-agent systems and get an overview of the crewAI framework."
   ]
  },
  {
   "cell_type": "markdown",
   "metadata": {},
   "source": [
    "The libraries are already installed in the classroom. If you're running this notebook on your own machine, you can install the following:\n",
    "```Python\n",
    "!pip install crewai==0.28.8 crewai_tools==0.1.6 langchain_community==0.0.29\n",
    "```"
   ]
  },
  {
   "cell_type": "code",
   "execution_count": 1,
   "metadata": {},
   "outputs": [],
   "source": [
    "# Warning control\n",
    "import warnings\n",
    "warnings.filterwarnings('ignore')"
   ]
  },
  {
   "cell_type": "markdown",
   "metadata": {},
   "source": [
    "- Import from the crewAI libray."
   ]
  },
  {
   "cell_type": "code",
   "execution_count": 2,
   "metadata": {},
   "outputs": [],
   "source": [
    "from crewai import Agent, Task, Crew"
   ]
  },
  {
   "cell_type": "markdown",
   "metadata": {},
   "source": [
    "- As a LLM for your agents, you'll be using OpenAI's `gpt-3.5-turbo`.\n",
    "\n",
    "**Optional Note:** crewAI also allow other popular models to be used as a LLM for your Agents. You can see some of the examples at the [bottom of the notebook](#1)."
   ]
  },
  {
   "cell_type": "code",
   "execution_count": 5,
   "metadata": {},
   "outputs": [],
   "source": [
    "import os\n",
    "from utils import get_openai_api_key\n",
    "\n",
    "openai_api_key = get_openai_api_key()\n",
    "os.environ[\"OPENAI_MODEL_NAME\"] = 'gpt-3.5-turbo'"
   ]
  },
  {
   "cell_type": "markdown",
   "metadata": {},
   "source": [
    "## Creating Agents\n",
    "\n",
    "- Define your Agents, and provide them a `role`, `goal` and `backstory`.\n",
    "- It has been seen that LLMs perform better when they are role playing."
   ]
  },
  {
   "cell_type": "markdown",
   "metadata": {},
   "source": [
    "### Agent: Planner\n",
    "\n",
    "**Note**: The benefit of using _multiple strings_ :\n",
    "```Python\n",
    "varname = \"line 1 of text\"\n",
    "          \"line 2 of text\"\n",
    "```\n",
    "\n",
    "versus the _triple quote docstring_:\n",
    "```Python\n",
    "varname = \"\"\"line 1 of text\n",
    "             line 2 of text\n",
    "          \"\"\"\n",
    "```\n",
    "is that it can avoid adding those whitespaces and newline characters, making it better formatted to be passed to the LLM."
   ]
  },
  {
   "cell_type": "code",
   "execution_count": 8,
   "metadata": {},
   "outputs": [],
   "source": [
    "planner = Agent(\n",
    "    role=\"Content Planner\",\n",
    "    goal=\"Plan engaging and factually accurate content on {topic}\",\n",
    "    backstory=\"You're working on planning a blog article \"\n",
    "              \"about the topic: {topic}.\"\n",
    "              \"You collect information that helps the \"\n",
    "              \"audience learn something \"\n",
    "              \"and make informed decisions. \"\n",
    "              \"Your work is the basis for \"\n",
    "              \"the Content Writer to write an article on this topic.\",\n",
    "    allow_delegation=False,\n",
    "\tverbose=True\n",
    ")"
   ]
  },
  {
   "cell_type": "markdown",
   "metadata": {},
   "source": [
    "### Agent: Writer"
   ]
  },
  {
   "cell_type": "code",
   "execution_count": 9,
   "metadata": {},
   "outputs": [],
   "source": [
    "writer = Agent(\n",
    "    role=\"Content Writer\",\n",
    "    goal=\"Write insightful and factually accurate \"\n",
    "         \"opinion piece about the topic: {topic}\",\n",
    "    backstory=\"You're working on a writing \"\n",
    "              \"a new opinion piece about the topic: {topic}. \"\n",
    "              \"You base your writing on the work of \"\n",
    "              \"the Content Planner, who provides an outline \"\n",
    "              \"and relevant context about the topic. \"\n",
    "              \"You follow the main objectives and \"\n",
    "              \"direction of the outline, \"\n",
    "              \"as provide by the Content Planner. \"\n",
    "              \"You also provide objective and impartial insights \"\n",
    "              \"and back them up with information \"\n",
    "              \"provide by the Content Planner. \"\n",
    "              \"You acknowledge in your opinion piece \"\n",
    "              \"when your statements are opinions \"\n",
    "              \"as opposed to objective statements.\",\n",
    "    allow_delegation=False,\n",
    "    verbose=True\n",
    ")"
   ]
  },
  {
   "cell_type": "markdown",
   "metadata": {},
   "source": [
    "### Agent: Editor"
   ]
  },
  {
   "cell_type": "code",
   "execution_count": 10,
   "metadata": {},
   "outputs": [],
   "source": [
    "editor = Agent(\n",
    "    role=\"Editor\",\n",
    "    goal=\"Edit a given blog post to align with \"\n",
    "         \"the writing style of the organization. \",\n",
    "    backstory=\"You are an editor who receives a blog post \"\n",
    "              \"from the Content Writer. \"\n",
    "              \"Your goal is to review the blog post \"\n",
    "              \"to ensure that it follows journalistic best practices,\"\n",
    "              \"provides balanced viewpoints \"\n",
    "              \"when providing opinions or assertions, \"\n",
    "              \"and also avoids major controversial topics \"\n",
    "              \"or opinions when possible.\",\n",
    "    allow_delegation=False,\n",
    "    verbose=True\n",
    ")"
   ]
  },
  {
   "cell_type": "markdown",
   "metadata": {},
   "source": [
    "## Creating Tasks\n",
    "\n",
    "- Define your Tasks, and provide them a `description`, `expected_output` and `agent`."
   ]
  },
  {
   "cell_type": "markdown",
   "metadata": {},
   "source": [
    "### Task: Plan"
   ]
  },
  {
   "cell_type": "code",
   "execution_count": 11,
   "metadata": {},
   "outputs": [],
   "source": [
    "plan = Task(\n",
    "    description=(\n",
    "        \"1. Prioritize the latest trends, key players, \"\n",
    "            \"and noteworthy news on {topic}.\\n\"\n",
    "        \"2. Identify the target audience, considering \"\n",
    "            \"their interests and pain points.\\n\"\n",
    "        \"3. Develop a detailed content outline including \"\n",
    "            \"an introduction, key points, and a call to action.\\n\"\n",
    "        \"4. Include SEO keywords and relevant data or sources.\"\n",
    "    ),\n",
    "    expected_output=\"A comprehensive content plan document \"\n",
    "        \"with an outline, audience analysis, \"\n",
    "        \"SEO keywords, and resources.\",\n",
    "    agent=planner,\n",
    ")"
   ]
  },
  {
   "cell_type": "markdown",
   "metadata": {},
   "source": [
    "### Task: Write"
   ]
  },
  {
   "cell_type": "code",
   "execution_count": 12,
   "metadata": {},
   "outputs": [],
   "source": [
    "write = Task(\n",
    "    description=(\n",
    "        \"1. Use the content plan to craft a compelling \"\n",
    "            \"blog post on {topic}.\\n\"\n",
    "        \"2. Incorporate SEO keywords naturally.\\n\"\n",
    "\t\t\"3. Sections/Subtitles are properly named \"\n",
    "            \"in an engaging manner.\\n\"\n",
    "        \"4. Ensure the post is structured with an \"\n",
    "            \"engaging introduction, insightful body, \"\n",
    "            \"and a summarizing conclusion.\\n\"\n",
    "        \"5. Proofread for grammatical errors and \"\n",
    "            \"alignment with the brand's voice.\\n\"\n",
    "    ),\n",
    "    expected_output=\"A well-written blog post \"\n",
    "        \"in markdown format, ready for publication, \"\n",
    "        \"each section should have 2 or 3 paragraphs.\",\n",
    "    agent=writer,\n",
    ")"
   ]
  },
  {
   "cell_type": "markdown",
   "metadata": {},
   "source": [
    "### Task: Edit"
   ]
  },
  {
   "cell_type": "code",
   "execution_count": 13,
   "metadata": {},
   "outputs": [],
   "source": [
    "edit = Task(\n",
    "    description=(\"Proofread the given blog post for \"\n",
    "                 \"grammatical errors and \"\n",
    "                 \"alignment with the brand's voice.\"),\n",
    "    expected_output=\"A well-written blog post in markdown format, \"\n",
    "                    \"ready for publication, \"\n",
    "                    \"each section should have 2 or 3 paragraphs.\",\n",
    "    agent=editor\n",
    ")"
   ]
  },
  {
   "cell_type": "markdown",
   "metadata": {},
   "source": [
    "## Creating the Crew\n",
    "\n",
    "- Create your crew of Agents\n",
    "- Pass the tasks to be performed by those agents.\n",
    "    - **Note**: *For this simple example*, the tasks will be performed sequentially (i.e they are dependent on each other), so the _order_ of the task in the list _matters_.\n",
    "- `verbose=2` allows you to see all the logs of the execution. "
   ]
  },
  {
   "cell_type": "code",
   "execution_count": 14,
   "metadata": {},
   "outputs": [],
   "source": [
    "crew = Crew(\n",
    "    agents=[planner, writer, editor],\n",
    "    tasks=[plan, write, edit],\n",
    "    verbose=2\n",
    ")"
   ]
  },
  {
   "cell_type": "markdown",
   "metadata": {},
   "source": [
    "## Running the Crew"
   ]
  },
  {
   "cell_type": "markdown",
   "metadata": {},
   "source": [
    "**Note**: LLMs can provide different outputs for they same input, so what you get might be different than what you see in the video."
   ]
  },
  {
   "cell_type": "code",
   "execution_count": 15,
   "metadata": {},
   "outputs": [
    {
     "name": "stdout",
     "output_type": "stream",
     "text": [
      "\u001b[1m\u001b[95m [DEBUG]: == Working Agent: Content Planner\u001b[00m\n",
      "\u001b[1m\u001b[95m [INFO]: == Starting Task: 1. Prioritize the latest trends, key players, and noteworthy news on Artificial Intelligence.\n",
      "2. Identify the target audience, considering their interests and pain points.\n",
      "3. Develop a detailed content outline including an introduction, key points, and a call to action.\n",
      "4. Include SEO keywords and relevant data or sources.\u001b[00m\n",
      "\n",
      "\n",
      "\u001b[1m> Entering new CrewAgentExecutor chain...\u001b[0m\n",
      "\u001b[32;1m\u001b[1;3mI now can give a great answer\n",
      "\n",
      "Final Answer:\n",
      "\n",
      "Content Plan Document\n",
      "\n",
      "Topic: Artificial Intelligence\n",
      "\n",
      "Outline:\n",
      "I. Introduction\n",
      "- Definition of Artificial Intelligence\n",
      "- Importance of Artificial Intelligence in today's world\n",
      "- Brief overview of the latest trends in AI\n",
      "\n",
      "II. Latest Trends in Artificial Intelligence\n",
      "- Deep Learning and Neural Networks\n",
      "- Natural Language Processing\n",
      "- Computer Vision\n",
      "- AI in healthcare, finance, and other industries\n",
      "- AI ethics and regulations\n",
      "\n",
      "III. Key Players in Artificial Intelligence\n",
      "- Google\n",
      "- Amazon\n",
      "- Microsoft\n",
      "- IBM\n",
      "- Tesla\n",
      "- OpenAI\n",
      "\n",
      "IV. Noteworthy News in Artificial Intelligence\n",
      "- Recent breakthroughs in AI research\n",
      "- Applications of AI in solving complex problems\n",
      "- Impact of AI on job market and society\n",
      "- Future predictions for AI development\n",
      "\n",
      "V. Target Audience Analysis\n",
      "- Tech-savvy individuals interested in AI advancements\n",
      "- Business professionals looking to implement AI in their operations\n",
      "- Students and researchers studying Artificial Intelligence\n",
      "- Individuals curious about the ethical implications of AI\n",
      "\n",
      "VI. SEO Keywords\n",
      "- Artificial Intelligence trends\n",
      "- Key players in AI industry\n",
      "- Latest news in Artificial Intelligence\n",
      "- Artificial Intelligence developments\n",
      "- AI applications in various industries\n",
      "\n",
      "VII. Resources\n",
      "1. \"Artificial Intelligence: A Modern Approach\" by Stuart Russell and Peter Norvig\n",
      "2. \"Deep Learning\" by Ian Goodfellow, Yoshua Bengio, and Aaron Courville\n",
      "3. Forbes - Artificial Intelligence section\n",
      "4. TechCrunch - Artificial Intelligence category\n",
      "5. World Economic Forum - Artificial Intelligence reports\n",
      "\n",
      "Call to Action: Stay informed about the latest trends and developments in Artificial Intelligence by following reputable sources and engaging with AI professionals in the industry.\n",
      "\n",
      "This comprehensive content plan document includes an outline, audience analysis, SEO keywords, and relevant resources to guide the creation of a blog article on Artificial Intelligence.\u001b[0m\n",
      "\n",
      "\u001b[1m> Finished chain.\u001b[0m\n",
      "\u001b[1m\u001b[92m [DEBUG]: == [Content Planner] Task output: Content Plan Document\n",
      "\n",
      "Topic: Artificial Intelligence\n",
      "\n",
      "Outline:\n",
      "I. Introduction\n",
      "- Definition of Artificial Intelligence\n",
      "- Importance of Artificial Intelligence in today's world\n",
      "- Brief overview of the latest trends in AI\n",
      "\n",
      "II. Latest Trends in Artificial Intelligence\n",
      "- Deep Learning and Neural Networks\n",
      "- Natural Language Processing\n",
      "- Computer Vision\n",
      "- AI in healthcare, finance, and other industries\n",
      "- AI ethics and regulations\n",
      "\n",
      "III. Key Players in Artificial Intelligence\n",
      "- Google\n",
      "- Amazon\n",
      "- Microsoft\n",
      "- IBM\n",
      "- Tesla\n",
      "- OpenAI\n",
      "\n",
      "IV. Noteworthy News in Artificial Intelligence\n",
      "- Recent breakthroughs in AI research\n",
      "- Applications of AI in solving complex problems\n",
      "- Impact of AI on job market and society\n",
      "- Future predictions for AI development\n",
      "\n",
      "V. Target Audience Analysis\n",
      "- Tech-savvy individuals interested in AI advancements\n",
      "- Business professionals looking to implement AI in their operations\n",
      "- Students and researchers studying Artificial Intelligence\n",
      "- Individuals curious about the ethical implications of AI\n",
      "\n",
      "VI. SEO Keywords\n",
      "- Artificial Intelligence trends\n",
      "- Key players in AI industry\n",
      "- Latest news in Artificial Intelligence\n",
      "- Artificial Intelligence developments\n",
      "- AI applications in various industries\n",
      "\n",
      "VII. Resources\n",
      "1. \"Artificial Intelligence: A Modern Approach\" by Stuart Russell and Peter Norvig\n",
      "2. \"Deep Learning\" by Ian Goodfellow, Yoshua Bengio, and Aaron Courville\n",
      "3. Forbes - Artificial Intelligence section\n",
      "4. TechCrunch - Artificial Intelligence category\n",
      "5. World Economic Forum - Artificial Intelligence reports\n",
      "\n",
      "Call to Action: Stay informed about the latest trends and developments in Artificial Intelligence by following reputable sources and engaging with AI professionals in the industry.\n",
      "\n",
      "This comprehensive content plan document includes an outline, audience analysis, SEO keywords, and relevant resources to guide the creation of a blog article on Artificial Intelligence.\n",
      "\n",
      "\u001b[00m\n",
      "\u001b[1m\u001b[95m [DEBUG]: == Working Agent: Content Writer\u001b[00m\n",
      "\u001b[1m\u001b[95m [INFO]: == Starting Task: 1. Use the content plan to craft a compelling blog post on Artificial Intelligence.\n",
      "2. Incorporate SEO keywords naturally.\n",
      "3. Sections/Subtitles are properly named in an engaging manner.\n",
      "4. Ensure the post is structured with an engaging introduction, insightful body, and a summarizing conclusion.\n",
      "5. Proofread for grammatical errors and alignment with the brand's voice.\n",
      "\u001b[00m\n",
      "\n",
      "\n",
      "\u001b[1m> Entering new CrewAgentExecutor chain...\u001b[0m\n",
      "\u001b[32;1m\u001b[1;3mI now can give a great answer\n",
      "\n",
      "Final Answer:\n",
      "\n",
      "# The Rise of Artificial Intelligence: Trends, Players, and Implications\n",
      "\n",
      "## Introduction\n",
      "\n",
      "Artificial Intelligence (AI) has become an integral part of our modern world, revolutionizing industries and shaping the way we interact with technology. Defined as the simulation of human intelligence processes by machines, AI plays a crucial role in enhancing efficiency, accuracy, and innovation across various sectors. The latest trends in AI encompass cutting-edge technologies such as Deep Learning, Neural Networks, Natural Language Processing, and Computer Vision. These advancements have paved the way for significant breakthroughs in healthcare, finance, and other industries, driving economic growth and societal progress.\n",
      "\n",
      "## Latest Trends in Artificial Intelligence\n",
      "\n",
      "Deep Learning and Neural Networks are at the forefront of AI research, enabling machines to learn from vast amounts of data and perform complex tasks with human-like accuracy. Natural Language Processing has revolutionized communication between humans and machines, facilitating the development of virtual assistants and language translation tools. Computer Vision has enhanced image recognition capabilities, leading to advancements in autonomous vehicles and surveillance systems. In sectors like healthcare and finance, AI applications have improved diagnosis accuracy, personalized treatment plans, and financial forecasting.\n",
      "\n",
      "## Key Players in Artificial Intelligence\n",
      "\n",
      "Leading tech companies such as Google, Amazon, Microsoft, IBM, Tesla, and OpenAI are driving AI innovation and shaping the future of technology. These organizations invest heavily in AI research and development, creating cutting-edge solutions that address real-world challenges and opportunities. Google's DeepMind project, Amazon's Alexa virtual assistant, and IBM's Watson AI platform are among the most notable AI initiatives that have transformed industries and consumer experiences.\n",
      "\n",
      "## Noteworthy News in Artificial Intelligence\n",
      "\n",
      "Recent breakthroughs in AI research have focused on enhancing machine learning algorithms, improving data processing capabilities, and addressing ethical considerations in AI development. Applications of AI in solving complex problems range from predictive analytics to autonomous decision-making systems, revolutionizing the way businesses operate and individuals interact with technology. The impact of AI on the job market and society raises important questions about workforce automation, skills development, and societal well-being. Future predictions for AI development suggest continued growth in AI applications, ethical regulations, and interdisciplinary collaborations to drive innovation and address societal challenges.\n",
      "\n",
      "## Conclusion\n",
      "\n",
      "As Artificial Intelligence continues to evolve and transform our world, staying informed about the latest trends and developments is essential for tech-savvy individuals, business professionals, students, and researchers alike. By following reputable sources and engaging with AI professionals in the industry, we can gain valuable insights into the future of AI, its impact on various industries, and the ethical implications of AI technologies. Embracing the opportunities that AI offers while addressing its challenges will shape a more inclusive, innovative, and sustainable future for humanity.\n",
      "\n",
      "Remember, the future of Artificial Intelligence is in our hands. Stay informed, stay engaged, and be part of the AI revolution!\u001b[0m\n",
      "\n",
      "\u001b[1m> Finished chain.\u001b[0m\n",
      "\u001b[1m\u001b[92m [DEBUG]: == [Content Writer] Task output: # The Rise of Artificial Intelligence: Trends, Players, and Implications\n",
      "\n",
      "## Introduction\n",
      "\n",
      "Artificial Intelligence (AI) has become an integral part of our modern world, revolutionizing industries and shaping the way we interact with technology. Defined as the simulation of human intelligence processes by machines, AI plays a crucial role in enhancing efficiency, accuracy, and innovation across various sectors. The latest trends in AI encompass cutting-edge technologies such as Deep Learning, Neural Networks, Natural Language Processing, and Computer Vision. These advancements have paved the way for significant breakthroughs in healthcare, finance, and other industries, driving economic growth and societal progress.\n",
      "\n",
      "## Latest Trends in Artificial Intelligence\n",
      "\n",
      "Deep Learning and Neural Networks are at the forefront of AI research, enabling machines to learn from vast amounts of data and perform complex tasks with human-like accuracy. Natural Language Processing has revolutionized communication between humans and machines, facilitating the development of virtual assistants and language translation tools. Computer Vision has enhanced image recognition capabilities, leading to advancements in autonomous vehicles and surveillance systems. In sectors like healthcare and finance, AI applications have improved diagnosis accuracy, personalized treatment plans, and financial forecasting.\n",
      "\n",
      "## Key Players in Artificial Intelligence\n",
      "\n",
      "Leading tech companies such as Google, Amazon, Microsoft, IBM, Tesla, and OpenAI are driving AI innovation and shaping the future of technology. These organizations invest heavily in AI research and development, creating cutting-edge solutions that address real-world challenges and opportunities. Google's DeepMind project, Amazon's Alexa virtual assistant, and IBM's Watson AI platform are among the most notable AI initiatives that have transformed industries and consumer experiences.\n",
      "\n",
      "## Noteworthy News in Artificial Intelligence\n",
      "\n",
      "Recent breakthroughs in AI research have focused on enhancing machine learning algorithms, improving data processing capabilities, and addressing ethical considerations in AI development. Applications of AI in solving complex problems range from predictive analytics to autonomous decision-making systems, revolutionizing the way businesses operate and individuals interact with technology. The impact of AI on the job market and society raises important questions about workforce automation, skills development, and societal well-being. Future predictions for AI development suggest continued growth in AI applications, ethical regulations, and interdisciplinary collaborations to drive innovation and address societal challenges.\n",
      "\n",
      "## Conclusion\n",
      "\n",
      "As Artificial Intelligence continues to evolve and transform our world, staying informed about the latest trends and developments is essential for tech-savvy individuals, business professionals, students, and researchers alike. By following reputable sources and engaging with AI professionals in the industry, we can gain valuable insights into the future of AI, its impact on various industries, and the ethical implications of AI technologies. Embracing the opportunities that AI offers while addressing its challenges will shape a more inclusive, innovative, and sustainable future for humanity.\n",
      "\n",
      "Remember, the future of Artificial Intelligence is in our hands. Stay informed, stay engaged, and be part of the AI revolution!\n",
      "\n",
      "\u001b[00m\n",
      "\u001b[1m\u001b[95m [DEBUG]: == Working Agent: Editor\u001b[00m\n",
      "\u001b[1m\u001b[95m [INFO]: == Starting Task: Proofread the given blog post for grammatical errors and alignment with the brand's voice.\u001b[00m\n",
      "\n",
      "\n",
      "\u001b[1m> Entering new CrewAgentExecutor chain...\u001b[0m\n",
      "\u001b[32;1m\u001b[1;3mI now can give a great answer\n",
      "\n",
      "Final Answer: \n",
      "\n",
      "# The Rise of Artificial Intelligence: Trends, Players, and Implications\n",
      "\n",
      "Artificial Intelligence (AI) has permeated every aspect of our modern world, reshaping industries and redefining the way we interact with technology. By replicating human intelligence processes in machines, AI has significantly boosted efficiency, accuracy, and innovation across diverse sectors. The latest trends in AI encompass cutting-edge technologies like Deep Learning, Neural Networks, Natural Language Processing, and Computer Vision, which have paved the way for groundbreaking advancements in healthcare, finance, and beyond, fostering economic growth and societal advancement.\n",
      "\n",
      "In the realm of AI, Deep Learning and Neural Networks stand at the forefront of research, empowering machines to learn from vast datasets and execute complex tasks with human-like precision. Natural Language Processing has revolutionized human-machine communication, giving rise to virtual assistants and language translation tools. Moreover, Computer Vision has amplified image recognition capabilities, propelling advancements in autonomous vehicles and surveillance systems. In critical domains such as healthcare and finance, AI applications have bolstered diagnosis accuracy, personalized treatment plans, and financial forecasting, significantly enhancing operational efficiency and outcomes.\n",
      "\n",
      "When it comes to the key players in the AI landscape, leading tech giants including Google, Amazon, Microsoft, IBM, Tesla, and OpenAI have been instrumental in driving AI innovation and shaping the trajectory of technology. These industry frontrunners invest substantially in AI research and development, crafting cutting-edge solutions that tackle real-world challenges and opportunities head-on. Noteworthy initiatives like Google's DeepMind project, Amazon's Alexa virtual assistant, and IBM's Watson AI platform have left an indelible mark on industries and consumer experiences, showcasing the transformative power of AI on a global scale.\u001b[0m\n",
      "\n",
      "\u001b[1m> Finished chain.\u001b[0m\n",
      "\u001b[1m\u001b[92m [DEBUG]: == [Editor] Task output: # The Rise of Artificial Intelligence: Trends, Players, and Implications\n",
      "\n",
      "Artificial Intelligence (AI) has permeated every aspect of our modern world, reshaping industries and redefining the way we interact with technology. By replicating human intelligence processes in machines, AI has significantly boosted efficiency, accuracy, and innovation across diverse sectors. The latest trends in AI encompass cutting-edge technologies like Deep Learning, Neural Networks, Natural Language Processing, and Computer Vision, which have paved the way for groundbreaking advancements in healthcare, finance, and beyond, fostering economic growth and societal advancement.\n",
      "\n",
      "In the realm of AI, Deep Learning and Neural Networks stand at the forefront of research, empowering machines to learn from vast datasets and execute complex tasks with human-like precision. Natural Language Processing has revolutionized human-machine communication, giving rise to virtual assistants and language translation tools. Moreover, Computer Vision has amplified image recognition capabilities, propelling advancements in autonomous vehicles and surveillance systems. In critical domains such as healthcare and finance, AI applications have bolstered diagnosis accuracy, personalized treatment plans, and financial forecasting, significantly enhancing operational efficiency and outcomes.\n",
      "\n",
      "When it comes to the key players in the AI landscape, leading tech giants including Google, Amazon, Microsoft, IBM, Tesla, and OpenAI have been instrumental in driving AI innovation and shaping the trajectory of technology. These industry frontrunners invest substantially in AI research and development, crafting cutting-edge solutions that tackle real-world challenges and opportunities head-on. Noteworthy initiatives like Google's DeepMind project, Amazon's Alexa virtual assistant, and IBM's Watson AI platform have left an indelible mark on industries and consumer experiences, showcasing the transformative power of AI on a global scale.\n",
      "\n",
      "\u001b[00m\n"
     ]
    }
   ],
   "source": [
    "result = crew.kickoff(inputs={\"topic\": \"Artificial Intelligence\"})"
   ]
  },
  {
   "cell_type": "markdown",
   "metadata": {},
   "source": [
    "- Display the results of your execution as markdown in the notebook."
   ]
  },
  {
   "cell_type": "code",
   "execution_count": 16,
   "metadata": {},
   "outputs": [
    {
     "data": {
      "text/markdown": [
       "# The Rise of Artificial Intelligence: Trends, Players, and Implications\n",
       "\n",
       "Artificial Intelligence (AI) has permeated every aspect of our modern world, reshaping industries and redefining the way we interact with technology. By replicating human intelligence processes in machines, AI has significantly boosted efficiency, accuracy, and innovation across diverse sectors. The latest trends in AI encompass cutting-edge technologies like Deep Learning, Neural Networks, Natural Language Processing, and Computer Vision, which have paved the way for groundbreaking advancements in healthcare, finance, and beyond, fostering economic growth and societal advancement.\n",
       "\n",
       "In the realm of AI, Deep Learning and Neural Networks stand at the forefront of research, empowering machines to learn from vast datasets and execute complex tasks with human-like precision. Natural Language Processing has revolutionized human-machine communication, giving rise to virtual assistants and language translation tools. Moreover, Computer Vision has amplified image recognition capabilities, propelling advancements in autonomous vehicles and surveillance systems. In critical domains such as healthcare and finance, AI applications have bolstered diagnosis accuracy, personalized treatment plans, and financial forecasting, significantly enhancing operational efficiency and outcomes.\n",
       "\n",
       "When it comes to the key players in the AI landscape, leading tech giants including Google, Amazon, Microsoft, IBM, Tesla, and OpenAI have been instrumental in driving AI innovation and shaping the trajectory of technology. These industry frontrunners invest substantially in AI research and development, crafting cutting-edge solutions that tackle real-world challenges and opportunities head-on. Noteworthy initiatives like Google's DeepMind project, Amazon's Alexa virtual assistant, and IBM's Watson AI platform have left an indelible mark on industries and consumer experiences, showcasing the transformative power of AI on a global scale."
      ],
      "text/plain": [
       "<IPython.core.display.Markdown object>"
      ]
     },
     "execution_count": 16,
     "metadata": {},
     "output_type": "execute_result"
    }
   ],
   "source": [
    "from IPython.display import Markdown\n",
    "Markdown(result)"
   ]
  },
  {
   "cell_type": "markdown",
   "metadata": {},
   "source": [
    "## Try it Yourself\n",
    "\n",
    "- Pass in a topic of your choice and see what the agents come up with!"
   ]
  },
  {
   "cell_type": "code",
   "execution_count": 17,
   "metadata": {},
   "outputs": [
    {
     "name": "stdout",
     "output_type": "stream",
     "text": [
      "\u001b[1m\u001b[95m [DEBUG]: == Working Agent: Content Planner\u001b[00m\n",
      "\u001b[1m\u001b[95m [INFO]: == Starting Task: 1. Prioritize the latest trends, key players, and noteworthy news on When men will get Mars?.\n",
      "2. Identify the target audience, considering their interests and pain points.\n",
      "3. Develop a detailed content outline including an introduction, key points, and a call to action.\n",
      "4. Include SEO keywords and relevant data or sources.\u001b[00m\n",
      "\n",
      "\n",
      "\u001b[1m> Entering new CrewAgentExecutor chain...\u001b[0m\n",
      "\u001b[32;1m\u001b[1;3mI now can give a great answer\n",
      "\n",
      "Final Answer: \n",
      "\n",
      "Title: When Will Men Get to Mars? Exploring the Latest Trends and Predictions\n",
      "\n",
      "Introduction:\n",
      "- Brief overview of space exploration history\n",
      "- Introduction to the topic of when humans will reach Mars\n",
      "- Mention of key players in the space exploration industry\n",
      "- Brief explanation of the importance of reaching Mars\n",
      "\n",
      "Key Points:\n",
      "1. Latest Trends in Mars Exploration:\n",
      "- Overview of recent Mars missions and discoveries\n",
      "- Updates on current Mars missions by NASA, SpaceX, and other space agencies/companies\n",
      "- Discussion on advancements in technology and research that are bringing us closer to Mars\n",
      "\n",
      "2. Predictions on When Men Will Get to Mars:\n",
      "- Analysis of different predictions by experts in the space industry\n",
      "- Comparison of proposed timelines by NASA, SpaceX, and other organizations\n",
      "- Factors influencing the timeline for reaching Mars, such as funding, technology, and international cooperation\n",
      "\n",
      "3. Target Audience Analysis:\n",
      "- Target audience: Space enthusiasts, science fiction fans, students, and individuals interested in the future of space exploration\n",
      "- Interests: Curiosity about Mars, excitement for space travel, desire for the advancement of human civilization\n",
      "- Pain points: Impatience for progress, concerns about the feasibility of Mars missions, lack of understanding about the challenges of space travel\n",
      "\n",
      "4. SEO Keywords:\n",
      "- Mars exploration\n",
      "- Human missions to Mars\n",
      "- Mars colonization\n",
      "- Mars travel timeline\n",
      "- Space exploration updates\n",
      "\n",
      "Call to Action:\n",
      "- Encourage readers to stay informed about Mars missions by following reputable sources such as NASA and SpaceX\n",
      "- Invite readers to engage in discussions about the future of space exploration on social media platforms\n",
      "- Suggest further reading on the topic of Mars exploration and space travel\n",
      "\n",
      "Resources:\n",
      "- NASA's official website for updates on Mars missions: https://www.nasa.gov/topics/mars/index.html\n",
      "- SpaceX's official website for information on their Mars plans: https://www.spacex.com/mars\n",
      "- Space.com for news and articles on space exploration: https://www.space.com/\n",
      "\n",
      "By following this detailed content plan, the blog article on \"When Will Men Get to Mars?\" will provide readers with comprehensive information on the latest trends, key players, and predictions regarding human missions to Mars. The content will be engaging, factually accurate, and tailored to the interests and pain points of the target audience, ultimately leading to an informative and enjoyable reading experience.\u001b[0m\n",
      "\n",
      "\u001b[1m> Finished chain.\u001b[0m\n",
      "\u001b[1m\u001b[92m [DEBUG]: == [Content Planner] Task output: Title: When Will Men Get to Mars? Exploring the Latest Trends and Predictions\n",
      "\n",
      "Introduction:\n",
      "- Brief overview of space exploration history\n",
      "- Introduction to the topic of when humans will reach Mars\n",
      "- Mention of key players in the space exploration industry\n",
      "- Brief explanation of the importance of reaching Mars\n",
      "\n",
      "Key Points:\n",
      "1. Latest Trends in Mars Exploration:\n",
      "- Overview of recent Mars missions and discoveries\n",
      "- Updates on current Mars missions by NASA, SpaceX, and other space agencies/companies\n",
      "- Discussion on advancements in technology and research that are bringing us closer to Mars\n",
      "\n",
      "2. Predictions on When Men Will Get to Mars:\n",
      "- Analysis of different predictions by experts in the space industry\n",
      "- Comparison of proposed timelines by NASA, SpaceX, and other organizations\n",
      "- Factors influencing the timeline for reaching Mars, such as funding, technology, and international cooperation\n",
      "\n",
      "3. Target Audience Analysis:\n",
      "- Target audience: Space enthusiasts, science fiction fans, students, and individuals interested in the future of space exploration\n",
      "- Interests: Curiosity about Mars, excitement for space travel, desire for the advancement of human civilization\n",
      "- Pain points: Impatience for progress, concerns about the feasibility of Mars missions, lack of understanding about the challenges of space travel\n",
      "\n",
      "4. SEO Keywords:\n",
      "- Mars exploration\n",
      "- Human missions to Mars\n",
      "- Mars colonization\n",
      "- Mars travel timeline\n",
      "- Space exploration updates\n",
      "\n",
      "Call to Action:\n",
      "- Encourage readers to stay informed about Mars missions by following reputable sources such as NASA and SpaceX\n",
      "- Invite readers to engage in discussions about the future of space exploration on social media platforms\n",
      "- Suggest further reading on the topic of Mars exploration and space travel\n",
      "\n",
      "Resources:\n",
      "- NASA's official website for updates on Mars missions: https://www.nasa.gov/topics/mars/index.html\n",
      "- SpaceX's official website for information on their Mars plans: https://www.spacex.com/mars\n",
      "- Space.com for news and articles on space exploration: https://www.space.com/\n",
      "\n",
      "By following this detailed content plan, the blog article on \"When Will Men Get to Mars?\" will provide readers with comprehensive information on the latest trends, key players, and predictions regarding human missions to Mars. The content will be engaging, factually accurate, and tailored to the interests and pain points of the target audience, ultimately leading to an informative and enjoyable reading experience.\n",
      "\n",
      "\u001b[00m\n",
      "\u001b[1m\u001b[95m [DEBUG]: == Working Agent: Content Writer\u001b[00m\n",
      "\u001b[1m\u001b[95m [INFO]: == Starting Task: 1. Use the content plan to craft a compelling blog post on When men will get Mars?.\n",
      "2. Incorporate SEO keywords naturally.\n",
      "3. Sections/Subtitles are properly named in an engaging manner.\n",
      "4. Ensure the post is structured with an engaging introduction, insightful body, and a summarizing conclusion.\n",
      "5. Proofread for grammatical errors and alignment with the brand's voice.\n",
      "\u001b[00m\n",
      "\n",
      "\n",
      "\u001b[1m> Entering new CrewAgentExecutor chain...\u001b[0m\n",
      "\u001b[32;1m\u001b[1;3mI now can give a great answer\n",
      "\n",
      "Final Answer:\n",
      "\n",
      "# When Will Men Get to Mars? Exploring the Latest Trends and Predictions\n",
      "\n",
      "## Introduction\n",
      "Since the dawn of space exploration, humans have looked towards the stars with a sense of wonder and curiosity. The idea of reaching Mars, the next frontier in space exploration, has captured the imagination of scientists, engineers, and dreamers alike. With key players such as NASA, SpaceX, and other space agencies and companies leading the charge, the question on everyone's mind is: when will men finally set foot on the red planet? In this blog post, we will delve into the latest trends and predictions surrounding human missions to Mars, exploring the possibilities and challenges that lie ahead.\n",
      "\n",
      "## Latest Trends in Mars Exploration\n",
      "Recent missions to Mars, such as NASA's Perseverance rover and SpaceX's Starship prototypes, have provided us with valuable insights into the Martian landscape and potential habitability. These missions have paved the way for future human exploration by testing new technologies and conducting crucial research. With advancements in propulsion systems, life support technologies, and sustainability solutions, we are closer than ever to making the journey to Mars a reality. The collaboration between public and private entities in space exploration has accelerated progress and opened up new possibilities for reaching the red planet.\n",
      "\n",
      "## Predictions on When Men Will Get to Mars\n",
      "Experts in the space industry have put forth various predictions on when humans will finally reach Mars. NASA's Artemis program aims to return humans to the moon by 2024 as a stepping stone towards Mars, with tentative timelines for a Mars mission in the 2030s. SpaceX's ambitious plans envision crewed missions to Mars as early as the mid-2020s, fueled by their reusable rocket technology and Mars colonization efforts. Factors such as funding, technological advancements, and international cooperation will play a crucial role in determining the timeline for human missions to Mars. As we push the boundaries of space exploration, the dream of setting foot on Mars is becoming increasingly tangible.\n",
      "\n",
      "## Target Audience Analysis\n",
      "For space enthusiasts, science fiction fans, students, and individuals curious about the future of space exploration, the journey to Mars represents a thrilling adventure into the unknown. The prospect of colonizing Mars and expanding human civilization beyond Earth ignites a sense of wonder and excitement. However, impatience for progress and concerns about the feasibility of Mars missions are common pain points among the audience. By addressing these concerns and sharing the latest updates on Mars exploration, we can inspire a new generation of space explorers and foster a deeper understanding of the challenges ahead.\n",
      "\n",
      "## Call to Action\n",
      "As we continue to follow the developments in Mars exploration, it is essential to stay informed and engaged with reputable sources such as NASA and SpaceX. By supporting ongoing missions and participating in discussions about the future of space exploration, we can contribute to the advancement of human civilization beyond Earth. For further reading on Mars exploration and space travel, resources such as NASA's official website, SpaceX's Mars plans, and Space.com offer valuable insights and updates on the latest developments in the field.\n",
      "\n",
      "In conclusion, the journey to Mars is not just a scientific endeavor but a testament to human ingenuity and perseverance. With the latest trends and predictions pointing towards an imminent reality of human missions to Mars, the dream of exploring the red planet is within reach. By embracing the challenges and opportunities that lie ahead, we can pave the way for a future where men will finally set foot on Mars, marking a new chapter in the history of space exploration.\u001b[0m\n",
      "\n",
      "\u001b[1m> Finished chain.\u001b[0m\n",
      "\u001b[1m\u001b[92m [DEBUG]: == [Content Writer] Task output: # When Will Men Get to Mars? Exploring the Latest Trends and Predictions\n",
      "\n",
      "## Introduction\n",
      "Since the dawn of space exploration, humans have looked towards the stars with a sense of wonder and curiosity. The idea of reaching Mars, the next frontier in space exploration, has captured the imagination of scientists, engineers, and dreamers alike. With key players such as NASA, SpaceX, and other space agencies and companies leading the charge, the question on everyone's mind is: when will men finally set foot on the red planet? In this blog post, we will delve into the latest trends and predictions surrounding human missions to Mars, exploring the possibilities and challenges that lie ahead.\n",
      "\n",
      "## Latest Trends in Mars Exploration\n",
      "Recent missions to Mars, such as NASA's Perseverance rover and SpaceX's Starship prototypes, have provided us with valuable insights into the Martian landscape and potential habitability. These missions have paved the way for future human exploration by testing new technologies and conducting crucial research. With advancements in propulsion systems, life support technologies, and sustainability solutions, we are closer than ever to making the journey to Mars a reality. The collaboration between public and private entities in space exploration has accelerated progress and opened up new possibilities for reaching the red planet.\n",
      "\n",
      "## Predictions on When Men Will Get to Mars\n",
      "Experts in the space industry have put forth various predictions on when humans will finally reach Mars. NASA's Artemis program aims to return humans to the moon by 2024 as a stepping stone towards Mars, with tentative timelines for a Mars mission in the 2030s. SpaceX's ambitious plans envision crewed missions to Mars as early as the mid-2020s, fueled by their reusable rocket technology and Mars colonization efforts. Factors such as funding, technological advancements, and international cooperation will play a crucial role in determining the timeline for human missions to Mars. As we push the boundaries of space exploration, the dream of setting foot on Mars is becoming increasingly tangible.\n",
      "\n",
      "## Target Audience Analysis\n",
      "For space enthusiasts, science fiction fans, students, and individuals curious about the future of space exploration, the journey to Mars represents a thrilling adventure into the unknown. The prospect of colonizing Mars and expanding human civilization beyond Earth ignites a sense of wonder and excitement. However, impatience for progress and concerns about the feasibility of Mars missions are common pain points among the audience. By addressing these concerns and sharing the latest updates on Mars exploration, we can inspire a new generation of space explorers and foster a deeper understanding of the challenges ahead.\n",
      "\n",
      "## Call to Action\n",
      "As we continue to follow the developments in Mars exploration, it is essential to stay informed and engaged with reputable sources such as NASA and SpaceX. By supporting ongoing missions and participating in discussions about the future of space exploration, we can contribute to the advancement of human civilization beyond Earth. For further reading on Mars exploration and space travel, resources such as NASA's official website, SpaceX's Mars plans, and Space.com offer valuable insights and updates on the latest developments in the field.\n",
      "\n",
      "In conclusion, the journey to Mars is not just a scientific endeavor but a testament to human ingenuity and perseverance. With the latest trends and predictions pointing towards an imminent reality of human missions to Mars, the dream of exploring the red planet is within reach. By embracing the challenges and opportunities that lie ahead, we can pave the way for a future where men will finally set foot on Mars, marking a new chapter in the history of space exploration.\n",
      "\n",
      "\u001b[00m\n",
      "\u001b[1m\u001b[95m [DEBUG]: == Working Agent: Editor\u001b[00m\n",
      "\u001b[1m\u001b[95m [INFO]: == Starting Task: Proofread the given blog post for grammatical errors and alignment with the brand's voice.\u001b[00m\n",
      "\n",
      "\n",
      "\u001b[1m> Entering new CrewAgentExecutor chain...\u001b[0m\n",
      "\u001b[32;1m\u001b[1;3mI now can give a great answer\n",
      "\n",
      "Final Answer:\n",
      "# When Will Men Get to Mars? Exploring the Latest Trends and Predictions\n",
      "\n",
      "## Introduction\n",
      "Since the dawn of space exploration, humans have looked towards the stars with a sense of wonder and curiosity. The idea of reaching Mars, the next frontier in space exploration, has captured the imagination of scientists, engineers, and dreamers alike. With key players such as NASA, SpaceX, and other space agencies and companies leading the charge, the question on everyone's mind is: when will men finally set foot on the red planet? In this blog post, we will delve into the latest trends and predictions surrounding human missions to Mars, exploring the possibilities and challenges that lie ahead.\n",
      "\n",
      "## Latest Trends in Mars Exploration\n",
      "Recent missions to Mars, such as NASA's Perseverance rover and SpaceX's Starship prototypes, have provided us with valuable insights into the Martian landscape and potential habitability. These missions have paved the way for future human exploration by testing new technologies and conducting crucial research. With advancements in propulsion systems, life support technologies, and sustainability solutions, we are closer than ever to making the journey to Mars a reality. The collaboration between public and private entities in space exploration has accelerated progress and opened up new possibilities for reaching the red planet.\n",
      "\n",
      "## Predictions on When Men Will Get to Mars\n",
      "Experts in the space industry have put forth various predictions on when humans will finally reach Mars. NASA's Artemis program aims to return humans to the moon by 2024 as a stepping stone towards Mars, with tentative timelines for a Mars mission in the 2030s. SpaceX's ambitious plans envision crewed missions to Mars as early as the mid-2020s, fueled by their reusable rocket technology and Mars colonization efforts. Factors such as funding, technological advancements, and international cooperation will play a crucial role in determining the timeline for human missions to Mars. As we push the boundaries of space exploration, the dream of setting foot on Mars is becoming increasingly tangible.\n",
      "\n",
      "## Target Audience Analysis\n",
      "For space enthusiasts, science fiction fans, students, and individuals curious about the future of space exploration, the journey to Mars represents a thrilling adventure into the unknown. The prospect of colonizing Mars and expanding human civilization beyond Earth ignites a sense of wonder and excitement. However, impatience for progress and concerns about the feasibility of Mars missions are common pain points among the audience. By addressing these concerns and sharing the latest updates on Mars exploration, we can inspire a new generation of space explorers and foster a deeper understanding of the challenges ahead.\n",
      "\n",
      "## Call to Action\n",
      "As we continue to follow the developments in Mars exploration, it is essential to stay informed and engaged with reputable sources such as NASA and SpaceX. By supporting ongoing missions and participating in discussions about the future of space exploration, we can contribute to the advancement of human civilization beyond Earth. For further reading on Mars exploration and space travel, resources such as NASA's official website, SpaceX's Mars plans, and Space.com offer valuable insights and updates on the latest developments in the field.\n",
      "\n",
      "In conclusion, the journey to Mars is not just a scientific endeavor but a testament to human ingenuity and perseverance. With the latest trends and predictions pointing towards an imminent reality of human missions to Mars, the dream of exploring the red planet is within reach. By embracing the challenges and opportunities that lie ahead, we can pave the way for a future where men will finally set foot on Mars, marking a new chapter in the history of space exploration.\u001b[0m\n",
      "\n",
      "\u001b[1m> Finished chain.\u001b[0m\n",
      "\u001b[1m\u001b[92m [DEBUG]: == [Editor] Task output: # When Will Men Get to Mars? Exploring the Latest Trends and Predictions\n",
      "\n",
      "## Introduction\n",
      "Since the dawn of space exploration, humans have looked towards the stars with a sense of wonder and curiosity. The idea of reaching Mars, the next frontier in space exploration, has captured the imagination of scientists, engineers, and dreamers alike. With key players such as NASA, SpaceX, and other space agencies and companies leading the charge, the question on everyone's mind is: when will men finally set foot on the red planet? In this blog post, we will delve into the latest trends and predictions surrounding human missions to Mars, exploring the possibilities and challenges that lie ahead.\n",
      "\n",
      "## Latest Trends in Mars Exploration\n",
      "Recent missions to Mars, such as NASA's Perseverance rover and SpaceX's Starship prototypes, have provided us with valuable insights into the Martian landscape and potential habitability. These missions have paved the way for future human exploration by testing new technologies and conducting crucial research. With advancements in propulsion systems, life support technologies, and sustainability solutions, we are closer than ever to making the journey to Mars a reality. The collaboration between public and private entities in space exploration has accelerated progress and opened up new possibilities for reaching the red planet.\n",
      "\n",
      "## Predictions on When Men Will Get to Mars\n",
      "Experts in the space industry have put forth various predictions on when humans will finally reach Mars. NASA's Artemis program aims to return humans to the moon by 2024 as a stepping stone towards Mars, with tentative timelines for a Mars mission in the 2030s. SpaceX's ambitious plans envision crewed missions to Mars as early as the mid-2020s, fueled by their reusable rocket technology and Mars colonization efforts. Factors such as funding, technological advancements, and international cooperation will play a crucial role in determining the timeline for human missions to Mars. As we push the boundaries of space exploration, the dream of setting foot on Mars is becoming increasingly tangible.\n",
      "\n",
      "## Target Audience Analysis\n",
      "For space enthusiasts, science fiction fans, students, and individuals curious about the future of space exploration, the journey to Mars represents a thrilling adventure into the unknown. The prospect of colonizing Mars and expanding human civilization beyond Earth ignites a sense of wonder and excitement. However, impatience for progress and concerns about the feasibility of Mars missions are common pain points among the audience. By addressing these concerns and sharing the latest updates on Mars exploration, we can inspire a new generation of space explorers and foster a deeper understanding of the challenges ahead.\n",
      "\n",
      "## Call to Action\n",
      "As we continue to follow the developments in Mars exploration, it is essential to stay informed and engaged with reputable sources such as NASA and SpaceX. By supporting ongoing missions and participating in discussions about the future of space exploration, we can contribute to the advancement of human civilization beyond Earth. For further reading on Mars exploration and space travel, resources such as NASA's official website, SpaceX's Mars plans, and Space.com offer valuable insights and updates on the latest developments in the field.\n",
      "\n",
      "In conclusion, the journey to Mars is not just a scientific endeavor but a testament to human ingenuity and perseverance. With the latest trends and predictions pointing towards an imminent reality of human missions to Mars, the dream of exploring the red planet is within reach. By embracing the challenges and opportunities that lie ahead, we can pave the way for a future where men will finally set foot on Mars, marking a new chapter in the history of space exploration.\n",
      "\n",
      "\u001b[00m\n"
     ]
    }
   ],
   "source": [
    "topic = \"When men will get Mars?\"\n",
    "result = crew.kickoff(inputs={\"topic\": topic})"
   ]
  },
  {
   "cell_type": "code",
   "execution_count": 18,
   "metadata": {},
   "outputs": [
    {
     "data": {
      "text/markdown": [
       "# When Will Men Get to Mars? Exploring the Latest Trends and Predictions\n",
       "\n",
       "## Introduction\n",
       "Since the dawn of space exploration, humans have looked towards the stars with a sense of wonder and curiosity. The idea of reaching Mars, the next frontier in space exploration, has captured the imagination of scientists, engineers, and dreamers alike. With key players such as NASA, SpaceX, and other space agencies and companies leading the charge, the question on everyone's mind is: when will men finally set foot on the red planet? In this blog post, we will delve into the latest trends and predictions surrounding human missions to Mars, exploring the possibilities and challenges that lie ahead.\n",
       "\n",
       "## Latest Trends in Mars Exploration\n",
       "Recent missions to Mars, such as NASA's Perseverance rover and SpaceX's Starship prototypes, have provided us with valuable insights into the Martian landscape and potential habitability. These missions have paved the way for future human exploration by testing new technologies and conducting crucial research. With advancements in propulsion systems, life support technologies, and sustainability solutions, we are closer than ever to making the journey to Mars a reality. The collaboration between public and private entities in space exploration has accelerated progress and opened up new possibilities for reaching the red planet.\n",
       "\n",
       "## Predictions on When Men Will Get to Mars\n",
       "Experts in the space industry have put forth various predictions on when humans will finally reach Mars. NASA's Artemis program aims to return humans to the moon by 2024 as a stepping stone towards Mars, with tentative timelines for a Mars mission in the 2030s. SpaceX's ambitious plans envision crewed missions to Mars as early as the mid-2020s, fueled by their reusable rocket technology and Mars colonization efforts. Factors such as funding, technological advancements, and international cooperation will play a crucial role in determining the timeline for human missions to Mars. As we push the boundaries of space exploration, the dream of setting foot on Mars is becoming increasingly tangible.\n",
       "\n",
       "## Target Audience Analysis\n",
       "For space enthusiasts, science fiction fans, students, and individuals curious about the future of space exploration, the journey to Mars represents a thrilling adventure into the unknown. The prospect of colonizing Mars and expanding human civilization beyond Earth ignites a sense of wonder and excitement. However, impatience for progress and concerns about the feasibility of Mars missions are common pain points among the audience. By addressing these concerns and sharing the latest updates on Mars exploration, we can inspire a new generation of space explorers and foster a deeper understanding of the challenges ahead.\n",
       "\n",
       "## Call to Action\n",
       "As we continue to follow the developments in Mars exploration, it is essential to stay informed and engaged with reputable sources such as NASA and SpaceX. By supporting ongoing missions and participating in discussions about the future of space exploration, we can contribute to the advancement of human civilization beyond Earth. For further reading on Mars exploration and space travel, resources such as NASA's official website, SpaceX's Mars plans, and Space.com offer valuable insights and updates on the latest developments in the field.\n",
       "\n",
       "In conclusion, the journey to Mars is not just a scientific endeavor but a testament to human ingenuity and perseverance. With the latest trends and predictions pointing towards an imminent reality of human missions to Mars, the dream of exploring the red planet is within reach. By embracing the challenges and opportunities that lie ahead, we can pave the way for a future where men will finally set foot on Mars, marking a new chapter in the history of space exploration."
      ],
      "text/plain": [
       "<IPython.core.display.Markdown object>"
      ]
     },
     "execution_count": 18,
     "metadata": {},
     "output_type": "execute_result"
    }
   ],
   "source": [
    "Markdown(result)"
   ]
  },
  {
   "cell_type": "markdown",
   "metadata": {},
   "source": [
    " ## Other Popular Models as LLM for your Agents"
   ]
  },
  {
   "cell_type": "markdown",
   "metadata": {},
   "source": [
    "#### Hugging Face (HuggingFaceHub endpoint)\n",
    "\n",
    "```Python\n",
    "from langchain_community.llms import HuggingFaceHub\n",
    "\n",
    "llm = HuggingFaceHub(\n",
    "    repo_id=\"HuggingFaceH4/zephyr-7b-beta\",\n",
    "    huggingfacehub_api_token=\"<HF_TOKEN_HERE>\",\n",
    "    task=\"text-generation\",\n",
    ")\n",
    "\n",
    "### you will pass \"llm\" to your agent function\n",
    "```"
   ]
  },
  {
   "cell_type": "markdown",
   "metadata": {},
   "source": [
    "#### Mistral API\n",
    "\n",
    "```Python\n",
    "OPENAI_API_KEY=your-mistral-api-key\n",
    "OPENAI_API_BASE=https://api.mistral.ai/v1\n",
    "OPENAI_MODEL_NAME=\"mistral-small\"\n",
    "```"
   ]
  },
  {
   "cell_type": "markdown",
   "metadata": {},
   "source": [
    "#### Cohere\n",
    "\n",
    "```Python\n",
    "from langchain_community.chat_models import ChatCohere\n",
    "# Initialize language model\n",
    "os.environ[\"COHERE_API_KEY\"] = \"your-cohere-api-key\"\n",
    "llm = ChatCohere()\n",
    "\n",
    "### you will pass \"llm\" to your agent function\n",
    "```"
   ]
  },
  {
   "cell_type": "markdown",
   "metadata": {},
   "source": [
    "### For using Llama locally with Ollama and more, checkout the crewAI documentation on [Connecting to any LLM](https://docs.crewai.com/how-to/LLM-Connections/)."
   ]
  }
 ],
 "metadata": {
  "kernelspec": {
   "display_name": "crew-ai",
   "language": "python",
   "name": "python3"
  },
  "language_info": {
   "codemirror_mode": {
    "name": "ipython",
    "version": 3
   },
   "file_extension": ".py",
   "mimetype": "text/x-python",
   "name": "python",
   "nbconvert_exporter": "python",
   "pygments_lexer": "ipython3",
   "version": "3.12.8"
  }
 },
 "nbformat": 4,
 "nbformat_minor": 2
}
